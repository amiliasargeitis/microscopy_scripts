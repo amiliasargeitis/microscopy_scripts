{
 "cells": [
  {
   "cell_type": "code",
   "execution_count": null,
   "metadata": {
    "collapsed": false
   },
   "outputs": [],
   "source": [
    "'''\n",
    "Modules required for imaging and data analysis\n",
    "'''\n",
    "\n",
    "import pandas as pd\n",
    "import numpy as np\n",
    "import matplotlib##\n",
    "import matplotlib.pyplot as plt##\n",
    "import scipy.interpolate\n",
    "%matplotlib inline\n",
    "import os\n",
    "import math\n",
    "import seaborn as sns\n",
    "import scipy\n",
    "import skimage\n",
    "from skimage import data\n",
    "from skimage import io\n",
    "import os\n",
    "from skimage import filters\n",
    "import math\n",
    "from scipy.optimize import curve_fit\n",
    "from scipy.stats.distributions import  t\n",
    "from skimage.filters import threshold_otsu, threshold_adaptive\n",
    "from skimage.morphology import remove_small_objects\n",
    "import statsmodels.api as sm\n",
    "import bottleneck as bn\n",
    "nanmean = bn.nanmean"
   ]
  },
  {
   "cell_type": "code",
   "execution_count": null,
   "metadata": {
    "collapsed": false
   },
   "outputs": [],
   "source": [
    "'''\n",
    "Create a DataFrame to convert frames in minutes\n",
    "\n",
    "'''\n",
    "total_number_of_TimeIDs = 150  #number of frames\n",
    "\n",
    "time_step = 5  #frame rate in minutes\n",
    "\n",
    "TimeIDs = range(1, total_number_of_TimeIDs + 1, 1) #+1 because the last number is not accounted\n",
    "Time_mins = []\n",
    "\n",
    "for i in TimeIDs:\n",
    "    t = time_step*(i-1)\n",
    "    Time_mins.append(t)\n",
    "    \n",
    "time_conversion = pd.DataFrame({\"TimeID\" : TimeIDs, \"Time\" : Time_mins})\n",
    "\n",
    "time_conversion"
   ]
  },
  {
   "cell_type": "code",
   "execution_count": null,
   "metadata": {
    "collapsed": false
   },
   "outputs": [],
   "source": [
    "'''\n",
    "Create a list with the names of the .tif files to be loaded and analyzed\n",
    "'''\n",
    "\n",
    "PATH_to_the_TIFs = \"Z:/Experiments/TORC1/20190506_wf(new)_SFP1-TOD6-pHtdGFP_agar_mm_rep4/Processed_tiffs/\"  #path to the folder containin the .tif files\n",
    "all_files = os.listdir(PATH_to_the_TIFs)\n",
    "\n",
    "tif_files = []\n",
    "for f in all_files:\n",
    "    if f.endswith(\".tif\"):\n",
    "        tif_files.append(f)\n",
    "        \n",
    "tif_files"
   ]
  },
  {
   "cell_type": "code",
   "execution_count": null,
   "metadata": {
    "collapsed": false
   },
   "outputs": [],
   "source": [
    "'''\n",
    "Creating a list of .csv files with the segmentation info created by BudJ\n",
    "\n",
    "'''\n",
    "PATH_to_the_TIFs2 = \"Z:/Experiments/TORC1/20190506_wf(new)_SFP1-TOD6-pHtdGFP_agar_mm_rep4/Analysis/\" # path to the folder containing the BudJ output files\n",
    "files = []\n",
    "for i in os.listdir(PATH_to_the_TIFs2):\n",
    "    if \".csv\" in i:\n",
    "            prefix_position = \"pos\" + i[-22:-20]+\"_\"\n",
    "            files.append((i, prefix_position))\n",
    "            \n",
    "files"
   ]
  },
  {
   "cell_type": "code",
   "execution_count": null,
   "metadata": {
    "collapsed": false
   },
   "outputs": [],
   "source": [
    "'''\n",
    "Creating a DataFrame containing the segmenation info from BudJ\n",
    "'''\n",
    "\n",
    "initial_table = pd.DataFrame({})\n",
    "for f in files:\n",
    "    pos = pd.read_csv(f[0], header=0, index_col=0)\n",
    "    pos[\"Cell_pos\"] = f[1] + pos[\"Cell\"].map(str)\n",
    "    pos = pos.loc[:, [\"TimeID\", \"Cell_pos\", \"volume\", \"x\", \"y\", \"major R\", \"minor r\", \"angle\"]]\n",
    "    initial_table = pd.concat([initial_table, pos])\n",
    "    \n",
    "initial_table = pd.merge(initial_table, time_conversion, on=\"TimeID\")\n",
    "initial_table"
   ]
  },
  {
   "cell_type": "code",
   "execution_count": null,
   "metadata": {
    "collapsed": false
   },
   "outputs": [],
   "source": [
    "'''\n",
    "Number of individual cells segmented by BudJ\n",
    "'''\n",
    "\n",
    "individual_cells = sorted(list(set(initial_table[\"Cell_pos\"])))\n",
    "len(individual_cells)"
   ]
  },
  {
   "cell_type": "code",
   "execution_count": null,
   "metadata": {
    "collapsed": false
   },
   "outputs": [],
   "source": [
    "'''\n",
    "Creates a dictionary containing the budding events (in frame) for each cell\n",
    "'''\n",
    "\n",
    "buddings_SFP1 = {\"pos01_1\" : [1, 34, 53, 74, 99, 119],\n",
    "\"pos01_2\" : [9, 34, 58, 79, 102, 125],\n",
    "..........\n",
    "}"
   ]
  },
  {
   "cell_type": "code",
   "execution_count": null,
   "metadata": {
    "collapsed": true
   },
   "outputs": [],
   "source": [
    "'''\n",
    "Creates a dictionary containing the karyokinesis events (in frame) for each cell\n",
    "'''\n",
    "\n",
    "kariokinesis_SFP1 = {\"pos01_1\" : [17, 48, 68, 92, 113],\n",
    "\"pos01_2\" : [26, 50, 73, 94, 116],\n",
    "......\n",
    "}"
   ]
  },
  {
   "cell_type": "code",
   "execution_count": null,
   "metadata": {
    "collapsed": false
   },
   "outputs": [],
   "source": [
    "print(len(buddings_SFP1))\n",
    "print(len(kariokinesis_SFP1))"
   ]
  },
  {
   "cell_type": "code",
   "execution_count": null,
   "metadata": {
    "collapsed": true
   },
   "outputs": [],
   "source": [
    "'''\n",
    "Creates a function that converts the ellipse parameters from BudJ into pixels unit\n",
    "'''\n",
    "\n",
    "def ellipse(time_point, BudJ_table, scaling_factor):\n",
    "    h = float(BudJ_table[BudJ_table[\"TimeID\"] == time_point]['x'])/scaling_factor\n",
    "    k = float(BudJ_table[BudJ_table[\"TimeID\"] == time_point]['y'])/scaling_factor\n",
    "    a = float(BudJ_table[BudJ_table[\"TimeID\"] == time_point][\"major R\"])/scaling_factor\n",
    "    b = float(BudJ_table[BudJ_table[\"TimeID\"] == time_point][\"minor r\"])/scaling_factor\n",
    "    A = float(BudJ_table[BudJ_table[\"TimeID\"] == time_point]['angle'])*(math.pi/180)\n",
    "    return h, k, a, b, A"
   ]
  },
  {
   "cell_type": "code",
   "execution_count": null,
   "metadata": {
    "collapsed": true
   },
   "outputs": [],
   "source": [
    "def round_up_to_odd(f):\n",
    "    return int(np.ceil(f) // 2 * 2 + 1)"
   ]
  },
  {
   "cell_type": "code",
   "execution_count": null,
   "metadata": {
    "collapsed": false,
    "scrolled": true
   },
   "outputs": [],
   "source": [
    "### this code apply the mask defined by the BudJ segmentatio to each cell at each time point and measures \n",
    "### the N/C ratio for that cell at every time point\n",
    "\n",
    "scaling_factor = 0.16 #microns per pixel, 100x objective\n",
    "\n",
    "initial_table_recalculated_SFP1 = pd.DataFrame({})\n",
    "\n",
    "c = 0\n",
    "for pos in ['01','02','03','04','05','06','07','08','09','10','11','12','13','14','15','16','17','18','19','20']:  #list of all the XY position to be analyzed\n",
    "\n",
    "    filename = os.path.join(skimage.data_dir, PATH_to_the_TIFs+\"20190506_wf(new)_sfp1-tod6_agar_mm_gl_rep3_xy\"+pos+\".nd2.tif\") \n",
    "    cell_tif = io.imread(filename) # load the raw images files \n",
    "    \n",
    "    for cell in individual_cells:\n",
    "        if 'pos'+pos in cell:\n",
    "                temp = initial_table[initial_table[\"Cell_pos\"] == cell] #extract the BudJ info for a particular cell\n",
    "                temp = temp.sort_values(by=\"Time\")\n",
    "                \n",
    "                time_axis = list(temp[\"TimeID\"]) #extract time axis\n",
    "                \n",
    "                ##List of all the parameters to be measured for each cell at each time point\n",
    "                GFP_cell = []\n",
    "                GFP_cyto1 = []\n",
    "                GFP_nucleus1 = []\n",
    "                Ratio1 = []\n",
    "                RFP_total = []\n",
    "                              \n",
    "                for t in time_axis:\n",
    "                    \n",
    "                        \n",
    "                        t_in_tiff = int(t) - 1\n",
    "\n",
    "                        h, k, a, b, A = ellipse(t, temp, scaling_factor) \n",
    "\n",
    "                        #creating the mask corresponding to the BudJ ellipse\n",
    "                        image = cell_tif[t_in_tiff,:,:,2] #Extract one channel, at time point \"t_in_tiff\", does not matter which channel\n",
    "                        nrows, ncols = image.shape\n",
    "                        row, col = np.ogrid[:nrows, :ncols]\n",
    "                        \n",
    "                        ### it creates a mask corresponding to the ellipse fitted by BudJ to segment the cell at this particular frame\n",
    "                        inner_disk_mask = ((((col-h-1)*math.cos(A)+(row-k-1)*math.sin(A))**2)/(a**2) + (((col-h-1)*math.sin(A)-(row-k-1)*math.cos(A))**2)/(b**2) - 1 < 0)\n",
    "  \n",
    "                        ###Calculate variables in the GFP channel like mean intensity, std,...\n",
    "                        imageGFP = cell_tif[t_in_tiff,:,:,1] # extract GFP channel\n",
    "                        imageGFP_corr = imageGFP[inner_disk_mask == True] # apply cell mask\n",
    "                        mean_GFP = np.mean(imageGFP_corr) # calculate mean GFP intensity inside the cell mask\n",
    "                        GFP_cell.append(mean_GFP)\n",
    "                        GFP_std.append(np.std(imageGFP[inner_disk_mask == True])) # calculate the STD of the GFP intensity inside the cell mask\n",
    "\n",
    "                        ### Nuclear mask\n",
    "                        imageRFP = cell_tif[t_in_tiff,:,:,2] # extract the RFP channel\n",
    "                        imageRFP_corr = imageRFP*inner_disk_mask # apply cells mask\n",
    "                        thr_mask = imageRFP_corr > 10 # use a simple intensity thrshold to create a mask of the nucleus\n",
    "                        \n",
    "                        centroid1 = scipy.ndimage.measurements.center_of_mass((imageGFP*inner_disk_mask)*thr_mask) # calculate the centroid of the nuclear mask\n",
    "                        centroid1 = np.nan_to_num(centroid1)\n",
    "                        b1 = centroid1[1]\n",
    "                        a1 = centroid1[0]+1\n",
    "                        r = 3 # define radious for small nucelar mask, in pixels\n",
    "                        r1 = 9 # define radious for big nucelar mask, in pixels\n",
    "                            \n",
    "                        x1,y1 = np.ogrid[-a1: nrows-a1, -b1: ncols-b1]\n",
    "                        \n",
    "                        disk_mask_nuc1 = x1*x1 +y1*y1 < r*r #create small, circular, nuclear mask \n",
    "                        disk_mask_cyto1 = x1*x1 +y1*y1 < r1*r1 #create big, circular, nuclear mask,\n",
    "                        diff1 = np.logical_and(disk_mask_cyto1, inner_disk_mask) #overlap big nucelar mask with whole cell mask to avoid including pixels outside the whole cell mask\n",
    "                        mask_of_cytoplasm1 = inner_disk_mask ^ diff1 #define the cytosoli mask by subtractin the big nuclear mask from the whole cell mask\n",
    "                        \n",
    "                        #RFP\n",
    "                        RFP_total.append(np.sum(imageRFP_corr[thr_mask == True]))  #calculate total RFP signal insied the small nuclear mask\n",
    "                    \n",
    "                        #GFP in the nucleus\n",
    "                        nucleus_mean1 = np.mean(imageGFP[disk_mask_nuc1 == True]) #calculate mean GFP signal inside the small nuclear mask, that is what we consider the nucelar GFP concentration\n",
    "                        GFP_nucleus1.append(nucleus_mean1)\n",
    "                    \n",
    "                        #GFP in the cytosol\n",
    "                        cyto_mean1 = np.mean(imageGFP[mask_of_cytoplasm1 == True]) #calculate mean GFP signal inside the cytosolic mask, that is what we consider the cytosolic GFP concentraion\n",
    "                        GFP_cyto1.append(cyto_mean1)\n",
    "                       \n",
    "                        #Ratio\n",
    "                        Ratio1.append((nucleus_mean1)/(cyto_mean1)) #calculate the N/C ratio\n",
    "                       \n",
    "                ###save calculated variables in DataFrame\n",
    "                temp[\"GFP_cell\"] = pd.Series(GFP_cell, index=temp.index)\n",
    "                temp[\"GFP_std\"] = pd.Series(GFP_std, index=temp.index)\n",
    "                temp[\"GFP_nucleus1\"] = pd.Series(GFP_nucleus1, index=temp.index)\n",
    "                temp[\"GFP_cyto1\"] = pd.Series(GFP_cyto1, index=temp.index)\n",
    "                temp[\"Ratio1\"] = pd.Series(Ratio1, index=temp.index)\n",
    "                temp[\"RFP_conc\"] = pd.Series(RFP_conc, index=temp.index)\n",
    "                temp[\"RFP_total\"] = pd.Series(RFP_total, index=temp.index)\n",
    "                \n",
    "                \n",
    "             \n",
    "                initial_table_recalculated_SFP1 = pd.concat([initial_table_recalculated_SFP1, temp])\n",
    "                \n",
    "                c += 1\n",
    "                print cell,"
   ]
  },
  {
   "cell_type": "code",
   "execution_count": null,
   "metadata": {
    "collapsed": false
   },
   "outputs": [],
   "source": [
    "initial_table_recalculated_SFP1 = initial_table_recalculated_SFP1.reset_index(drop=\"true\")"
   ]
  },
  {
   "cell_type": "code",
   "execution_count": null,
   "metadata": {
    "collapsed": false
   },
   "outputs": [],
   "source": [
    "initial_table_recalculated_SFP1[pd.isnull(initial_table_recalculated_SFP1).any(axis=1)]"
   ]
  },
  {
   "cell_type": "code",
   "execution_count": null,
   "metadata": {
    "collapsed": true
   },
   "outputs": [],
   "source": [
    "initial_table_recalculated_SFP1.to_excel(\"Sfp1_agar_rep1.xlsx\")"
   ]
  },
  {
   "cell_type": "code",
   "execution_count": null,
   "metadata": {
    "collapsed": false
   },
   "outputs": [],
   "source": [
    "initial_table_recalculated_SFP1 = pd.read_excel(\"Sfp1_agar_rep1.xlsx\")"
   ]
  },
  {
   "cell_type": "code",
   "execution_count": null,
   "metadata": {
    "collapsed": false
   },
   "outputs": [],
   "source": [
    "initial_table_SFP1 = initial_table_recalculated_SFP1"
   ]
  },
  {
   "cell_type": "code",
   "execution_count": null,
   "metadata": {
    "collapsed": true
   },
   "outputs": [],
   "source": [
    "## convert budding events in minutes\n",
    "\n",
    "buddings_control_SFP1 = {}\n",
    "\n",
    "\n",
    "for cell in individual_cells_SFP1:\n",
    "        control = []\n",
    "        \n",
    "        for i in buddings_SFP1[cell]:\n",
    "            budding_time = float(time_conversion[time_conversion[\"TimeID\"] == i][\"Time\"])\n",
    "            control.append(i)\n",
    "                \n",
    "        buddings_control_SFP1[cell] = control"
   ]
  },
  {
   "cell_type": "code",
   "execution_count": null,
   "metadata": {
    "collapsed": true
   },
   "outputs": [],
   "source": [
    "## convert karyokinesis events in minutes\n",
    "\n",
    "kariokinesis_control_SFP1 = {}\n",
    "\n",
    "for cell in individual_cells_SFP1:\n",
    "        control = []\n",
    "        \n",
    "        for i in kariokinesis_SFP1[cell]:\n",
    "            kariokinesis_time = float(time_conversion[time_conversion[\"TimeID\"] == i][\"Time\"])\n",
    "            control.append(i)\n",
    "                \n",
    "        kariokinesis_control_SFP1[cell] = control"
   ]
  },
  {
   "cell_type": "code",
   "execution_count": null,
   "metadata": {
    "collapsed": false
   },
   "outputs": [],
   "source": [
    "'''alignment karyokinesis to karyokinesis\n",
    "   Create a list where for each cell the information regarding each cell cycle (karyokiensis event, budding event, next karyokinesis event\n",
    "   number of point in between the first part and the second part of each cell cycle, duration of each part of each cell cycle) are stored'''\n",
    "\n",
    "cell_cycles_list_SFP1 = []\n",
    "\n",
    "\n",
    "buddings_group_SFP1 = buddings_control_SFP1\n",
    "kariokinesis_group_SFP1 = kariokinesis_control_SFP1\n",
    "\n",
    "\n",
    "for cell in buddings_group_SFP1:\n",
    "    \n",
    "    table = initial_table_SFP1[initial_table_SFP1[\"Cell_pos\"] == cell] #extract all variables corresponding to a cell\n",
    "    \n",
    "    buddings_of_the_cell = buddings_group_SFP1[cell]\n",
    "    kariokinesis_of_the_cell = kariokinesis_group_SFP1[cell]\n",
    "    \n",
    "    for i in range(len(kariokinesis_of_the_cell)):\n",
    "        if i != len(kariokinesis_of_the_cell)-1:\n",
    "            print cell\n",
    "            \n",
    "            start1 = float(time_conversion[time_conversion[\"TimeID\"] == kariokinesis_of_the_cell[i]][\"Time\"])\n",
    "            end1 = float(time_conversion[time_conversion[\"TimeID\"] == buddings_of_the_cell[i+1]][\"Time\"])### KEEP the FLOAT function here\n",
    "            start2 = float(time_conversion[time_conversion[\"TimeID\"] == buddings_of_the_cell[i+1]][\"Time\"])\n",
    "            end2 = float(time_conversion[time_conversion[\"TimeID\"] == kariokinesis_of_the_cell[i+1]][\"Time\"])### KEEP the FLOAT function here\n",
    "            \n",
    "            \n",
    "            duration1 = end1 - start1\n",
    "            duration2 = end2 - start2\n",
    "            \n",
    "            time_points_for_aligning_at_bud1 = (1/duration1)*np.array(np.arange(start1-start1, end1-start1+1, 5))\n",
    "            time_points_for_aligning_at_bud2 = (1/duration2)*np.array(np.arange(start2-start2, end2-start2+1, 5))\n",
    "\n",
    "            cell_cycles_list_SFP1.append((cell, start1, end1, start2, end2, time_points_for_aligning_at_bud1, time_points_for_aligning_at_bud2, duration1, duration2))"
   ]
  },
  {
   "cell_type": "code",
   "execution_count": null,
   "metadata": {
    "collapsed": false
   },
   "outputs": [],
   "source": [
    "### plot the distributions of the cell cycle phases duration\n",
    "%matplotlib inline\n",
    "import matplotlib.pyplot as plt\n",
    "sg2m = []\n",
    "g1 = []\n",
    "tot = []\n",
    "plt.figure(1,(9,9))\n",
    "for cycles in cell_cycles_list_SFP1: \n",
    "        if (cycles[7]+cycles[8]) < 200: # exclude cell cycles longer than 200 minutes\n",
    "            dur1 = cycles[7] #G1 duration\n",
    "            dur2 = cycles[8] #S/G2/M duration\n",
    "            dur3 = cycles[7] + cycles[8]\n",
    "            sg2m.append(dur2)\n",
    "            g1.append(dur1)\n",
    "            tot.append(dur3)\n",
    "    \n",
    "plt.hist(tot,15,label= 'Full cell cycle duration')\n",
    "plt.hist(g1,15,label = 'G1 duration')\n",
    "plt.hist(sg2m,15,label = 'S/G2/M duration')\n",
    "plt.xlabel(\"min\")\n",
    "plt.legend()\n",
    "plt.xlim(0, 500)\n",
    "plt.savefig(\"SFP1_cell_cycles_hist_k2k.png\")"
   ]
  },
  {
   "cell_type": "code",
   "execution_count": null,
   "metadata": {
    "collapsed": false
   },
   "outputs": [],
   "source": [
    "print(np.mean(tot))\n",
    "print(np.mean(g1))\n",
    "print(np.mean(sg2m))"
   ]
  },
  {
   "cell_type": "code",
   "execution_count": null,
   "metadata": {
    "collapsed": false
   },
   "outputs": [],
   "source": [
    "#### in this code each variable for each cell is splitted according to the cell cycle events and each part is then interpolated\n",
    "#### with a fixed number of points defined by the average duartion of G1 and S/G2/M and their ratio, the sum have to be 80.\n",
    "\n",
    "variables = [\"volume\",\"GFP_cell\",\"GFP_nucleus1\",\"GFP_cyto1\",\"Ratio1\",\"GFP_std\",\"RFP_total\"] # variables to be aligned and interpolated\n",
    "\n",
    "L = len(variables)\n",
    "k=0\n",
    "\n",
    "c = 1\n",
    "\n",
    "all_time_points1 = np.linspace(0, 1, 80) ## total number of points used for the interpolation of each cell cycle series\n",
    "all_time_points2 = np.linspace(0, 1, 27) ## numnber of points used to interpolate the first part (G1) of each cell cycle series,\n",
    "all_time_points3 = np.linspace(0, 1, 54) ## numnber of points used to interpolate the second part (SG2M) of each cell cycle series\n",
    "                                         ## +1 point that will be exclude since it is already contained in the fisrt part (G1) of the cell cycle\n",
    "\n",
    "cc_df1_SFP1 = pd.DataFrame({})\n",
    "cc_df_small1_SFP1 = pd.DataFrame({})\n",
    "\n",
    "cell_cycle = 0\n",
    "\n",
    "for cycle in cell_cycles_list_SFP1:\n",
    "                \n",
    "                pos_cell = cycle[0]\n",
    "                start1 = cycle[1]\n",
    "                end1 = cycle[2]\n",
    "                start2 = cycle[3]\n",
    "                end2 = cycle[4]\n",
    "                time1 = cycle[5]\n",
    "                time2 = cycle[6]\n",
    "                new_time1 = all_time_points1\n",
    "                new_time2 = all_time_points2\n",
    "                new_time3 = all_time_points3\n",
    "                \n",
    "                cell_cycle += 1\n",
    "                print pos_cell\n",
    "                \n",
    "                for i in range(L):\n",
    "                    variable = variables[i]                    \n",
    "                    big_data_table = initial_table_SFP1                  \n",
    "                    table = big_data_table[big_data_table[\"Cell_pos\"] == pos_cell] # extract the variables corresponding to a cell\n",
    "            \n",
    "                    sensor1 = table[(table[\"Time\"] >= start1) & (table[\"Time\"] <= end1)][variable] #split a variable from karyokinesis to budding\n",
    "                    sensor2 = table[(table[\"Time\"] >= start2) & (table[\"Time\"] <= end2)][variable] #split a variable from budding to karyokinesis\n",
    "                   \n",
    "                    if len(sensor1) != len(time1):\n",
    "                \n",
    "                        continue\n",
    "                    \n",
    "                    f1 = scipy.interpolate.interp1d(time1, sensor1) #linear interpolation\n",
    "                    f2 = scipy.interpolate.interp1d(time2, sensor2) #linear interpolation \n",
    "                   \n",
    "                    new_sensor1 = f1(new_time2)\n",
    "                    new_sensor2 = f2(new_time3)\n",
    "                    \n",
    "                    cc_df_small1_SFP1[\"TimeID\"] = new_time1\n",
    "                    cc_df_small1_SFP1[variable] = np.append(new_sensor1, new_sensor2[1:]) \n",
    "                    \n",
    "                cc_df_small1_SFP1[\"Cell_cycle\"] = cell_cycle                        \n",
    "                cc_df1_SFP1 = pd.concat([cc_df1_SFP1, cc_df_small1_SFP1])"
   ]
  }
 ],
 "metadata": {
  "kernelspec": {
   "display_name": "Python 2",
   "language": "python",
   "name": "python2"
  },
  "language_info": {
   "codemirror_mode": {
    "name": "ipython",
    "version": 2
   },
   "file_extension": ".py",
   "mimetype": "text/x-python",
   "name": "python",
   "nbconvert_exporter": "python",
   "pygments_lexer": "ipython2",
   "version": "2.7.13"
  }
 },
 "nbformat": 4,
 "nbformat_minor": 2
}
